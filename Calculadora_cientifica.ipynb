{
  "nbformat": 4,
  "nbformat_minor": 0,
  "metadata": {
    "colab": {
      "provenance": [],
      "authorship_tag": "ABX9TyPh/L97RGrFFjUGpQp+KI6U",
      "include_colab_link": true
    },
    "kernelspec": {
      "name": "python3",
      "display_name": "Python 3"
    },
    "language_info": {
      "name": "python"
    }
  },
  "cells": [
    {
      "cell_type": "markdown",
      "metadata": {
        "id": "view-in-github",
        "colab_type": "text"
      },
      "source": [
        "<a href=\"https://colab.research.google.com/github/fernando-carloto/calculadora-cientifica/blob/main/Calculadora_cientifica.ipynb\" target=\"_parent\"><img src=\"https://colab.research.google.com/assets/colab-badge.svg\" alt=\"Open In Colab\"/></a>"
      ]
    },
    {
      "cell_type": "code",
      "execution_count": 8,
      "metadata": {
        "colab": {
          "base_uri": "https://localhost:8080/",
          "height": 356
        },
        "id": "CSo8FgIxVBXj",
        "outputId": "85854074-dde4-4230-c057-8a13c2b0dc61"
      },
      "outputs": [
        {
          "output_type": "error",
          "ename": "KeyboardInterrupt",
          "evalue": "Interrupted by user",
          "traceback": [
            "\u001b[0;31m---------------------------------------------------------------------------\u001b[0m",
            "\u001b[0;31mKeyboardInterrupt\u001b[0m                         Traceback (most recent call last)",
            "\u001b[0;32m<ipython-input-8-608523779920>\u001b[0m in \u001b[0;36m<cell line: 0>\u001b[0;34m()\u001b[0m\n\u001b[0;32m----> 1\u001b[0;31m \u001b[0mnumero1\u001b[0m \u001b[0;34m=\u001b[0m \u001b[0mfloat\u001b[0m\u001b[0;34m(\u001b[0m\u001b[0minput\u001b[0m\u001b[0;34m(\u001b[0m\u001b[0;34m\"Digite o primeiro número: \"\u001b[0m\u001b[0;34m)\u001b[0m\u001b[0;34m)\u001b[0m\u001b[0;34m\u001b[0m\u001b[0;34m\u001b[0m\u001b[0m\n\u001b[0m\u001b[1;32m      2\u001b[0m \u001b[0moperador\u001b[0m \u001b[0;34m=\u001b[0m \u001b[0minput\u001b[0m\u001b[0;34m(\u001b[0m\u001b[0;34m\"Digite o operador (+, -, *, /): \"\u001b[0m\u001b[0;34m)\u001b[0m\u001b[0;34m\u001b[0m\u001b[0;34m\u001b[0m\u001b[0m\n\u001b[1;32m      3\u001b[0m \u001b[0mnumero2\u001b[0m \u001b[0;34m=\u001b[0m \u001b[0mfloat\u001b[0m\u001b[0;34m(\u001b[0m\u001b[0minput\u001b[0m\u001b[0;34m(\u001b[0m\u001b[0;34m\"Digite o segundo número: \"\u001b[0m\u001b[0;34m)\u001b[0m\u001b[0;34m)\u001b[0m\u001b[0;34m\u001b[0m\u001b[0;34m\u001b[0m\u001b[0m\n\u001b[1;32m      4\u001b[0m \u001b[0;34m\u001b[0m\u001b[0m\n\u001b[1;32m      5\u001b[0m \u001b[0;32mif\u001b[0m \u001b[0moperador\u001b[0m \u001b[0;34m==\u001b[0m \u001b[0;34m\"+\"\u001b[0m\u001b[0;34m:\u001b[0m\u001b[0;34m\u001b[0m\u001b[0;34m\u001b[0m\u001b[0m\n",
            "\u001b[0;32m/usr/local/lib/python3.11/dist-packages/ipykernel/kernelbase.py\u001b[0m in \u001b[0;36mraw_input\u001b[0;34m(self, prompt)\u001b[0m\n\u001b[1;32m   1175\u001b[0m                 \u001b[0;34m\"raw_input was called, but this frontend does not support input requests.\"\u001b[0m\u001b[0;34m\u001b[0m\u001b[0;34m\u001b[0m\u001b[0m\n\u001b[1;32m   1176\u001b[0m             )\n\u001b[0;32m-> 1177\u001b[0;31m         return self._input_request(\n\u001b[0m\u001b[1;32m   1178\u001b[0m             \u001b[0mstr\u001b[0m\u001b[0;34m(\u001b[0m\u001b[0mprompt\u001b[0m\u001b[0;34m)\u001b[0m\u001b[0;34m,\u001b[0m\u001b[0;34m\u001b[0m\u001b[0;34m\u001b[0m\u001b[0m\n\u001b[1;32m   1179\u001b[0m             \u001b[0mself\u001b[0m\u001b[0;34m.\u001b[0m\u001b[0m_parent_ident\u001b[0m\u001b[0;34m[\u001b[0m\u001b[0;34m\"shell\"\u001b[0m\u001b[0;34m]\u001b[0m\u001b[0;34m,\u001b[0m\u001b[0;34m\u001b[0m\u001b[0;34m\u001b[0m\u001b[0m\n",
            "\u001b[0;32m/usr/local/lib/python3.11/dist-packages/ipykernel/kernelbase.py\u001b[0m in \u001b[0;36m_input_request\u001b[0;34m(self, prompt, ident, parent, password)\u001b[0m\n\u001b[1;32m   1217\u001b[0m             \u001b[0;32mexcept\u001b[0m \u001b[0mKeyboardInterrupt\u001b[0m\u001b[0;34m:\u001b[0m\u001b[0;34m\u001b[0m\u001b[0;34m\u001b[0m\u001b[0m\n\u001b[1;32m   1218\u001b[0m                 \u001b[0;31m# re-raise KeyboardInterrupt, to truncate traceback\u001b[0m\u001b[0;34m\u001b[0m\u001b[0;34m\u001b[0m\u001b[0m\n\u001b[0;32m-> 1219\u001b[0;31m                 \u001b[0;32mraise\u001b[0m \u001b[0mKeyboardInterrupt\u001b[0m\u001b[0;34m(\u001b[0m\u001b[0;34m\"Interrupted by user\"\u001b[0m\u001b[0;34m)\u001b[0m \u001b[0;32mfrom\u001b[0m \u001b[0;32mNone\u001b[0m\u001b[0;34m\u001b[0m\u001b[0;34m\u001b[0m\u001b[0m\n\u001b[0m\u001b[1;32m   1220\u001b[0m             \u001b[0;32mexcept\u001b[0m \u001b[0mException\u001b[0m\u001b[0;34m:\u001b[0m\u001b[0;34m\u001b[0m\u001b[0;34m\u001b[0m\u001b[0m\n\u001b[1;32m   1221\u001b[0m                 \u001b[0mself\u001b[0m\u001b[0;34m.\u001b[0m\u001b[0mlog\u001b[0m\u001b[0;34m.\u001b[0m\u001b[0mwarning\u001b[0m\u001b[0;34m(\u001b[0m\u001b[0;34m\"Invalid Message:\"\u001b[0m\u001b[0;34m,\u001b[0m \u001b[0mexc_info\u001b[0m\u001b[0;34m=\u001b[0m\u001b[0;32mTrue\u001b[0m\u001b[0;34m)\u001b[0m\u001b[0;34m\u001b[0m\u001b[0;34m\u001b[0m\u001b[0m\n",
            "\u001b[0;31mKeyboardInterrupt\u001b[0m: Interrupted by user"
          ]
        }
      ],
      "source": [
        "numero1 = float(input(\"Digite o primeiro número: \"))\n",
        "operador = input(\"Digite o operador (+, -, *, /): \")\n",
        "numero2 = float(input(\"Digite o segundo número: \"))\n",
        "\n",
        "if operador == \"+\":\n",
        "    resultado = numero1 + numero2\n",
        "elif operador == \"-\":\n",
        "    resultado = numero1 - numero2\n",
        "elif operador == \"*\":\n",
        "    resultado = numero1 * numero2\n",
        "elif operador == \"/\":\n",
        "    resultado = numero1 / numero2\n",
        "else:\n",
        "  resultado = \"Operador inválido\"\n",
        "\n",
        "print(\"O resultado é:\", resultado)"
      ]
    },
    {
      "cell_type": "code",
      "source": [
        "def adicionar(num1, num2):\n",
        "  \"\"\"Retorna a soma de dois números\"\"\"\n",
        "  return num1 + num2\n",
        "\n",
        "def subtrair(num1, num2):\n",
        "  \"\"\"Retorna a diferença de dois números\"\"\"\n",
        "  return num1 - num2\n",
        "\n",
        "def multiplicar(num1, num2):\n",
        "  \"\"\"Retorna o produto de dois números\"\"\"\n",
        "  return num1 * num2\n",
        "\n",
        "def dividir(num1, num2):\n",
        "  \"\"\"Retorna o quociente de divisão de dois números\"\"\"\n",
        "  return num1 / num2\n",
        "\n",
        "num1 = float(input(\"Digite o primeiro número: \"))\n",
        "operador = input(\"Digite o operador (+, -, *, /): \")\n",
        "num2 = float(input(\"Digite o segundo número: \"))\n",
        "\n",
        "if operador == \"+\":\n",
        "  resultado = adicionar(num1, num2)\n",
        "elif operador == \"-\":\n",
        "  resultado = subtrair(num1, num2)\n",
        "elif operador == \"*\":\n",
        "  resultado = multiplicar(num1, num2)\n",
        "elif operador == \"/\":\n",
        "  resultado = dividir(num1, num2)\n",
        "else:\n",
        "  print(\"Operador Inválido\")\n",
        "  resultado = None\n",
        "1\n",
        "if resultado is not None:\n",
        "  print(\"O resultado é:\", resultado)"
      ],
      "metadata": {
        "colab": {
          "base_uri": "https://localhost:8080/"
        },
        "id": "4-b_EjgKVY4L",
        "outputId": "f02d8f5b-1381-4686-91bd-459faf1d0b5e"
      },
      "execution_count": 9,
      "outputs": [
        {
          "output_type": "stream",
          "name": "stdout",
          "text": [
            "Digite o primeiro número: 1\n",
            "Digite o operador (+, -, *, /): +\n",
            "Digite o segundo número: 1\n",
            "O resultado é: 2.0\n"
          ]
        }
      ]
    },
    {
      "cell_type": "code",
      "source": [
        "def adicionar(num1, num2):\n",
        "  \"\"\"Retorna a soma de dois números\"\"\"\n",
        "  return num1 + num2\n",
        "\n",
        "def subtrair(num1, num2):\n",
        "  \"\"\"Retorna a diferença de dois números\"\"\"\n",
        "  return num1 - num2\n",
        "\n",
        "def multiplicar(num1, num2):\n",
        "  \"\"\"Retorna o produto de dois números\"\"\"\n",
        "  return num1 * num2\n",
        "\n",
        "def dividir(num1, num2):\n",
        "  \"\"\"Retorna o quociente de divisão de dois números\"\"\"\n",
        "  return num1 / num2\n",
        "\n",
        "try:\n",
        "  num1_str = float(input(\"Digite o primeiro número: \"))\n",
        "  operador = input(\"Digite o operador (+, -, *, /): \")\n",
        "  num2_str = float(input(\"Digite o segundo número: \"))\n",
        "\n",
        "  if not num1_str.replace('.', '', 1).isdigit() or not num2_str.replace('.', '', 1).isdigit():\n",
        "    raise ValueError(\"Por favor, insira numeros validos.\")\n",
        "  else:\n",
        "    num1 = float(num1_str)\n",
        "    num2 = float(num2_str)\n",
        "\n",
        "    if operador in['+', '-', '*', '/']:\n",
        "      if operador == \"+\":\n",
        "        resultado = adicionar(num1, num2)\n",
        "      elif operador == \"-\":\n",
        "        resultado = subtrair(num1, num2)\n",
        "      elif operador == \"*\":\n",
        "        resultado = multiplicar(num1, num2)\n",
        "      elif operador == \"/\":\n",
        "        if num2 == 0:\n",
        "          raise ZeroDivisionError(\"Não é possível dividir por zero.\")\n",
        "        else:\n",
        "          resultado = dividir(num1, num2)\n",
        "\n",
        "      print(f\"O resultado é: (resultado)\")\n",
        "    else:\n",
        "      raise ValueError(\"Operador Inválido. Use +, -, *, ou /.\")\n",
        "except ValueError as e:\n",
        "  print(f\"Erro: {e}\")\n",
        "except ZeroDivisionError as e:\n",
        "  print(f\"Erro: {e}\")\n",
        "except Exception as e:\n",
        "  print(f\"Ocorreu um erro inesperado: {e}\")"
      ],
      "metadata": {
        "id": "Z_e0JYg0XJ1i"
      },
      "execution_count": null,
      "outputs": []
    },
    {
      "cell_type": "code",
      "source": [
        "import math\n",
        "\n",
        "def adicionar(num1, num2):\n",
        "  \"\"\"Retorna a soma de dois números\"\"\"\n",
        "  return num1 + num2\n",
        "\n",
        "def subtrair(num1, num2):\n",
        "  \"\"\"Retorna a diferença de dois números\"\"\"\n",
        "  return num1 - num2\n",
        "\n",
        "def multiplicar(num1, num2):\n",
        "  \"\"\"Retorna o produto de dois números\"\"\"\n",
        "  return num1 * num2\n",
        "\n",
        "def dividir(num1, num2):\n",
        "  \"\"\"Retorna o quociente de divisão de dois números\"\"\"\n",
        "  return num1 / num2\n",
        "\n",
        "def potencia(base, expoente):\n",
        "  \"\"\"Retorna o resultado de base elevado a expoente\"\"\"\n",
        "  return math.pow(base, expoente)\n",
        "\n",
        "def radiciacao(numero, raiz):\n",
        "  \"\"\"Retorna a raiz de um número\"\"\"\n",
        "  if numero < 0 and raiz % 2 == 0:\n",
        "    raise ValueError(\"Raiz par de número negativo não é real\")\n",
        "  return math.pow(numero, 1/raiz)\n",
        "\n",
        "def seno(angulo_graus):\n",
        "  \"\"\"Retorna o seno de um angulo em graus\"\"\"\n",
        "  return math.sin(math.radians(angulo_graus))\n",
        "\n",
        "def cosseno(angulo_graus):\n",
        "  \"\"\"Retorna o cosseno de um angulo em graus\"\"\"\n",
        "  return math.cos(math.radians(angulo_graus))\n",
        "\n",
        "def tangente(angulo_graus):\n",
        "  \"\"\"Retorna a tangente de um angulo em graus\"\"\"\n",
        "  return math.tan(math.radians(angulo_graus))\n",
        "\n",
        "def logaritmo(numero, base):\n",
        "  \"\"\"Retorna o logaritmo de um numero na base especificada.\"\"\"\n",
        "  if numero <= 0 or base <= 0 or base == 1:\n",
        "    raise ValueError(\"Numero deve ser positivo e base positiva diferente de 1\")\n",
        "  return math.log(numero, base)\n",
        "\n",
        "try:\n",
        "  num1_str = float(input(\"Digite o primeiro número: \"))\n",
        "  operador = input(\"Digite o operador (+, -, *, /, **, rad, sen, cos, tan, log): \")\n",
        "  num2_str = float(input(\"Digite o segundo número (ou raiz/expoente/base para outras operações): \"))\n",
        "\n",
        "  if not num1_str.replace('.', '', 1).isdigit() or not num2_str.replace('.', '', 1).isdigit():\n",
        "    raise ValueError(\"Por favor, insira numeros validos.\")\n",
        "  else:\n",
        "    num1 = float(num1_str)\n",
        "    num2 = float(num2_str)\n",
        "    Resultado = None\n",
        "\n",
        "    if operador in ['+', '-', '*', '/', '**', 'rad', 'sen', 'cos', 'tan', 'log']:\n",
        "      if operador == '+':\n",
        "        Resultado = adicionar(num1, num2)\n",
        "      elif operador == '-':\n",
        "       Resultado = subtrair(num1, num2)\n",
        "      elif operador == '*':\n",
        "        Resultado = multiplicar(num1, num2)\n",
        "      elif operador == '/':\n",
        "        if num2 == 0:\n",
        "          raise ZeroDivisionError(\"Não é possível dividir por zero.\")\n",
        "        else:\n",
        "          Resultado = dividir(num1, num2)\n",
        "      elif operador == '**':\n",
        "          Resultado = potencia(num1, num2)\n",
        "      elif operador == 'rad':\n",
        "       Resultado = radiciacao(num1, num2)\n",
        "      elif operador == 'sen'\n",
        "       Resultado = seno(num1)\n",
        "      elif operador == 'cos':\n",
        "        Resultado = cosseno(num1)\n",
        "      elif operador == 'tan':\n",
        "       Resultado = tangente(num1)\n",
        "      elif operador == 'log':\n",
        "        Resultado = logaritmo(num1, num2)\n",
        "\n",
        "      print(f\"O resultado é: {Resultado}\")\n",
        "    else:\n",
        "     raise ValueError(\"Operador Inválido. Use +, -, *, /, **, rad, sen, cos, tan, log.\")\n",
        "\n",
        "except ValueError as e:\n",
        "  print(f\"Erro: {e}\")\n",
        "except ZeroDivisionError as e:\n",
        "  print(f\"Erro: {e}\")\n",
        "except Exception as e:\n",
        "  print(f\"Ocorreu um erro inesperado: {e}\")"
      ],
      "metadata": {
        "id": "zD7qVOQbZjSK"
      },
      "execution_count": null,
      "outputs": []
    }
  ]
}